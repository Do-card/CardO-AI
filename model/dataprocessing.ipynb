{
 "cells": [
  {
   "cell_type": "code",
   "execution_count": 1,
   "id": "511507e3-d698-4e42-a3ed-bff26d97c46c",
   "metadata": {},
   "outputs": [],
   "source": [
    "import pandas as pd\n",
    "import os\n"
   ]
  },
  {
   "cell_type": "code",
   "execution_count": 3,
   "id": "a27e6dbb-6c51-4948-b6af-06f6c3afdb93",
   "metadata": {},
   "outputs": [],
   "source": [
    "csv_file_path = 'naver_shopping_data_1104.csv'\n",
    "        \n",
    "if os.path.exists(csv_file_path):\n",
    "    # 기존 데이터 불러오기\n",
    "    existing_df = pd.read_csv(csv_file_path)\n",
    "        \n",
    "df = existing_df[['title', 'category1', 'category2', 'category3']]"
   ]
  },
  {
   "cell_type": "code",
   "execution_count": 5,
   "id": "46155b03-c13b-4588-85b8-c6671c4682c3",
   "metadata": {},
   "outputs": [
    {
     "name": "stdout",
     "output_type": "stream",
     "text": [
      "                                                    title category1 category2  \\\n",
      "0                                      브레넨스툴 플랫 플러그 2구 3M     생활/건강        공구   \n",
      "1                                써지오 <b>멀티탭</b> 연장선 1구 5m     생활/건강        공구   \n",
      "2                  아이정 더좋은 <b>멀티탭</b> 통합 절전 과부하 스위치 2구 1M     생활/건강        공구   \n",
      "3       비맥스 납작 <b>멀티탭</b> 고용량 에어컨 전용 과부하차단 개별스위치 공간활용 ...     생활/건강        공구   \n",
      "4                            필립스 개별 스위치 USB 멀티콘센트 4구 1.5M     생활/건강        공구   \n",
      "...                                                   ...       ...       ...   \n",
      "578613                <b>기록</b>노트 필사노트 독서 업무 일기장 양장 가죽 B5     생활/건강   문구/사무용품   \n",
      "578614                         B5 유선노트 라인 메모 <b>기록</b> 노트     생활/건강   문구/사무용품   \n",
      "578615                   일이공이 감정일기 마음 일기장 감성 노트 <b>기록</b>     생활/건강   문구/사무용품   \n",
      "578616  일본 11마리고양이 A6 독서 <b>기록</b> 노트 - 트럭, 산책 / 열한마리 ...     생활/건강   문구/사무용품   \n",
      "578617                 리딩펫 독서통장 어린이 독후활동 초등 독서<b>기록</b>수첩     생활/건강   문구/사무용품   \n",
      "\n",
      "       category3  \n",
      "0           전기용품  \n",
      "1           전기용품  \n",
      "2           전기용품  \n",
      "3           전기용품  \n",
      "4           전기용품  \n",
      "...          ...  \n",
      "578613     노트/수첩  \n",
      "578614     노트/수첩  \n",
      "578615     노트/수첩  \n",
      "578616     노트/수첩  \n",
      "578617     노트/수첩  \n",
      "\n",
      "[578618 rows x 4 columns]\n"
     ]
    }
   ],
   "source": [
    "print(df)"
   ]
  },
  {
   "cell_type": "code",
   "execution_count": 7,
   "id": "91b08966-40e4-48a0-800e-53d5494a2447",
   "metadata": {},
   "outputs": [
    {
     "name": "stdout",
     "output_type": "stream",
     "text": [
      "category3\n",
      "BB/CC크림    1053\n",
      "CPU         902\n",
      "DIY용품        28\n",
      "DSLR카메라      98\n",
      "HDD           1\n",
      "           ... \n",
      "휴대폰케이스     1377\n",
      "휴지통          23\n",
      "히터          956\n",
      "힐/펌프스       179\n",
      "힙색/슬링백        2\n",
      "Length: 1043, dtype: int64\n"
     ]
    }
   ],
   "source": [
    "print(df.groupby('category3').size())"
   ]
  },
  {
   "cell_type": "code",
   "execution_count": 9,
   "id": "abb01380-2ca4-48d9-b5b1-e0ec8c4f15f5",
   "metadata": {},
   "outputs": [
    {
     "name": "stdout",
     "output_type": "stream",
     "text": [
      "category3\n",
      "채소          14430\n",
      "과일          10434\n",
      "스낵           8401\n",
      "티셔츠          6798\n",
      "구급/응급용품      6771\n",
      "            ...  \n",
      "정원데코            1\n",
      "의료용압박스타킹        1\n",
      "해외앨범            1\n",
      "저주파자극기          1\n",
      "턱받이             1\n",
      "Name: count, Length: 1043, dtype: int64\n"
     ]
    }
   ],
   "source": [
    "print(df['category3'].value_counts())"
   ]
  },
  {
   "cell_type": "code",
   "execution_count": 11,
   "id": "d8e9b036-0310-487d-905e-8f564fd003ed",
   "metadata": {},
   "outputs": [
    {
     "data": {
      "text/plain": [
       "category3\n",
       "BB/CC크림    435\n",
       "DIY용품        7\n",
       "DSLR카메라     41\n",
       "KT          54\n",
       "LG U+       28\n",
       "          ... \n",
       "휴대폰케이블     450\n",
       "휴대폰케이스     843\n",
       "휴지통          7\n",
       "히터          74\n",
       "힐/펌프스       80\n",
       "Length: 810, dtype: int64"
      ]
     },
     "execution_count": 11,
     "metadata": {},
     "output_type": "execute_result"
    }
   ],
   "source": [
    "df.groupby('category3').size()"
   ]
  },
  {
   "cell_type": "code",
   "execution_count": 13,
   "id": "0eb9f802-d571-40a3-80c2-9bc4b92a3dca",
   "metadata": {},
   "outputs": [
    {
     "data": {
      "text/plain": [
       "category3\n",
       "채소          5253\n",
       "과일          3609\n",
       "스낵          2750\n",
       "크림          2521\n",
       "티셔츠         2391\n",
       "            ... \n",
       "전방/후방카메라       1\n",
       "게임             1\n",
       "공간박스           1\n",
       "해바라기씨유         1\n",
       "전기매트커버         1\n",
       "Name: count, Length: 810, dtype: int64"
      ]
     },
     "execution_count": 13,
     "metadata": {},
     "output_type": "execute_result"
    }
   ],
   "source": [
    "df['category3'].value_counts()"
   ]
  },
  {
   "cell_type": "code",
   "execution_count": 31,
   "id": "979759a5-0f21-4941-ae6b-165dcd84dd5f",
   "metadata": {},
   "outputs": [
    {
     "data": {
      "text/plain": [
       "category2\n",
       "농산물        32841\n",
       "주방용품       30317\n",
       "문구/사무용품    27745\n",
       "공구         27243\n",
       "과자/베이커리    22207\n",
       "           ...  \n",
       "마라톤용품          2\n",
       "좌욕/좌훈용품        1\n",
       "임산부용품          1\n",
       "이유식용품          1\n",
       "DVD            1\n",
       "Name: count, Length: 176, dtype: int64"
      ]
     },
     "execution_count": 31,
     "metadata": {},
     "output_type": "execute_result"
    }
   ],
   "source": [
    "df['category2'].value_counts()"
   ]
  },
  {
   "cell_type": "code",
   "execution_count": 13,
   "id": "d54124c4-1a3b-4c97-9e4b-9e7c7f31f0dc",
   "metadata": {},
   "outputs": [
    {
     "data": {
      "text/plain": [
       "category1\n",
       "식품         155069\n",
       "생활/건강      154932\n",
       "디지털/가전      71926\n",
       "화장품/미용      51280\n",
       "가구/인테리어     39092\n",
       "패션의류        31562\n",
       "패션잡화        28550\n",
       "스포츠/레저      26911\n",
       "출산/육아       14418\n",
       "여가/생활편의      4878\n",
       "Name: count, dtype: int64"
      ]
     },
     "execution_count": 13,
     "metadata": {},
     "output_type": "execute_result"
    }
   ],
   "source": [
    "df['category1'].value_counts()"
   ]
  },
  {
   "cell_type": "code",
   "execution_count": 15,
   "id": "38b18700-9248-45d6-ab41-815d1e430e64",
   "metadata": {},
   "outputs": [
    {
     "data": {
      "text/plain": [
       "category1\n",
       "가구/인테리어     39092\n",
       "디지털/가전      71926\n",
       "생활/건강      154932\n",
       "스포츠/레저      26911\n",
       "식품         155069\n",
       "여가/생활편의      4878\n",
       "출산/육아       14418\n",
       "패션의류        31562\n",
       "패션잡화        28550\n",
       "화장품/미용      51280\n",
       "dtype: int64"
      ]
     },
     "execution_count": 15,
     "metadata": {},
     "output_type": "execute_result"
    }
   ],
   "source": [
    "df.groupby('category1').size()"
   ]
  },
  {
   "cell_type": "code",
   "execution_count": 17,
   "id": "75f0d012-6531-4fcb-935c-747a08c40de5",
   "metadata": {
    "scrolled": true
   },
   "outputs": [
    {
     "data": {
      "text/plain": [
       "category2\n",
       "테니스           920\n",
       "노트북           920\n",
       "소프트웨어         908\n",
       "음반            907\n",
       "PC            906\n",
       "국내여행/체험       906\n",
       "네트워크장비        904\n",
       "재활운동용품        904\n",
       "농구            902\n",
       "스케이트/보드/롤러    902\n",
       "잼/시럽          901\n",
       "원데이클래스        900\n",
       "소스/드레싱        900\n",
       "이유식           900\n",
       "악기            833\n",
       "요가/필라테스       789\n",
       "배구            769\n",
       "유아동잡화         582\n",
       "남성언더웨어/잠옷     470\n",
       "남성화장품         372\n",
       "야구            294\n",
       "반찬            266\n",
       "수영            221\n",
       "남성가방          123\n",
       "관상어용품         123\n",
       "매트/안전용품        89\n",
       "눈건강용품          73\n",
       "스킨/바디용품        34\n",
       "스포츠액세서리        29\n",
       "신발용품           28\n",
       "유아침구           24\n",
       "신생아의류          19\n",
       "솜류             16\n",
       "위생/건강용품        14\n",
       "국내렌터카          13\n",
       "유아가구           12\n",
       "카시트            11\n",
       "모니터주변기기        11\n",
       "유아세제            9\n",
       "기타스포츠용품         8\n",
       "아동/주니어가구        8\n",
       "해외여행            6\n",
       "순금              5\n",
       "물리치료/저주파용품      5\n",
       "종교              4\n",
       "외출용품            4\n",
       "학습기기            3\n",
       "노트북액세서리         3\n",
       "댄스              3\n",
       "스키/보드           2\n",
       "마라톤용품           2\n",
       "좌욕/좌훈용품         1\n",
       "임산부용품           1\n",
       "이유식용품           1\n",
       "DVD             1\n",
       "Name: count, dtype: int64"
      ]
     },
     "execution_count": 17,
     "metadata": {},
     "output_type": "execute_result"
    }
   ],
   "source": [
    "df['category2'].value_counts().tail(55)"
   ]
  },
  {
   "cell_type": "code",
   "execution_count": 13,
   "id": "8edf8794-4997-4fce-b1a6-508cd616c5bf",
   "metadata": {},
   "outputs": [
    {
     "data": {
      "text/plain": [
       "category2\n",
       "주방용품         12737\n",
       "농산물          11848\n",
       "문구/사무용품      11059\n",
       "공구            8447\n",
       "음료            7408\n",
       "             ...  \n",
       "유아동잡화          225\n",
       "남성언더웨어/잠옷      201\n",
       "남성화장품          159\n",
       "야구             109\n",
       "수영              98\n",
       "Name: count, Length: 140, dtype: int64"
      ]
     },
     "execution_count": 13,
     "metadata": {},
     "output_type": "execute_result"
    }
   ],
   "source": [
    "df['category2'].value_counts().head(140)"
   ]
  },
  {
   "cell_type": "code",
   "execution_count": 19,
   "id": "78276693-5b8e-49a6-a472-6343d8da3ccf",
   "metadata": {},
   "outputs": [],
   "source": [
    "changed_df = df\n",
    "changed_df['title'] = changed_df['title'].replace({'<b>' : '', '</b>':'', '_' : ' ', r'\\[' : ' ', r'\\]' : ' ', r'\\(' : ' ', r'\\)': ' '}, regex = True).str.strip()"
   ]
  },
  {
   "cell_type": "code",
   "execution_count": 21,
   "id": "4cfacc4a-8bd2-43f6-bd5e-7a4dd1bc5a5c",
   "metadata": {},
   "outputs": [
    {
     "data": {
      "text/html": [
       "<div>\n",
       "<style scoped>\n",
       "    .dataframe tbody tr th:only-of-type {\n",
       "        vertical-align: middle;\n",
       "    }\n",
       "\n",
       "    .dataframe tbody tr th {\n",
       "        vertical-align: top;\n",
       "    }\n",
       "\n",
       "    .dataframe thead th {\n",
       "        text-align: right;\n",
       "    }\n",
       "</style>\n",
       "<table border=\"1\" class=\"dataframe\">\n",
       "  <thead>\n",
       "    <tr style=\"text-align: right;\">\n",
       "      <th></th>\n",
       "      <th>title</th>\n",
       "      <th>category1</th>\n",
       "      <th>category2</th>\n",
       "      <th>category3</th>\n",
       "    </tr>\n",
       "  </thead>\n",
       "  <tbody>\n",
       "    <tr>\n",
       "      <th>0</th>\n",
       "      <td>브레넨스툴 플랫 플러그 2구 3M</td>\n",
       "      <td>생활/건강</td>\n",
       "      <td>공구</td>\n",
       "      <td>전기용품</td>\n",
       "    </tr>\n",
       "    <tr>\n",
       "      <th>1</th>\n",
       "      <td>써지오 멀티탭 연장선 1구 5m</td>\n",
       "      <td>생활/건강</td>\n",
       "      <td>공구</td>\n",
       "      <td>전기용품</td>\n",
       "    </tr>\n",
       "    <tr>\n",
       "      <th>2</th>\n",
       "      <td>아이정 더좋은 멀티탭 통합 절전 과부하 스위치 2구 1M</td>\n",
       "      <td>생활/건강</td>\n",
       "      <td>공구</td>\n",
       "      <td>전기용품</td>\n",
       "    </tr>\n",
       "    <tr>\n",
       "      <th>3</th>\n",
       "      <td>비맥스 납작 멀티탭 고용량 에어컨 전용 과부하차단 개별스위치 공간활용 인테리어 콘센...</td>\n",
       "      <td>생활/건강</td>\n",
       "      <td>공구</td>\n",
       "      <td>전기용품</td>\n",
       "    </tr>\n",
       "    <tr>\n",
       "      <th>4</th>\n",
       "      <td>필립스 개별 스위치 USB 멀티콘센트 4구 1.5M</td>\n",
       "      <td>생활/건강</td>\n",
       "      <td>공구</td>\n",
       "      <td>전기용품</td>\n",
       "    </tr>\n",
       "    <tr>\n",
       "      <th>...</th>\n",
       "      <td>...</td>\n",
       "      <td>...</td>\n",
       "      <td>...</td>\n",
       "      <td>...</td>\n",
       "    </tr>\n",
       "    <tr>\n",
       "      <th>578613</th>\n",
       "      <td>기록노트 필사노트 독서 업무 일기장 양장 가죽 B5</td>\n",
       "      <td>생활/건강</td>\n",
       "      <td>문구/사무용품</td>\n",
       "      <td>노트/수첩</td>\n",
       "    </tr>\n",
       "    <tr>\n",
       "      <th>578614</th>\n",
       "      <td>B5 유선노트 라인 메모 기록 노트</td>\n",
       "      <td>생활/건강</td>\n",
       "      <td>문구/사무용품</td>\n",
       "      <td>노트/수첩</td>\n",
       "    </tr>\n",
       "    <tr>\n",
       "      <th>578615</th>\n",
       "      <td>일이공이 감정일기 마음 일기장 감성 노트 기록</td>\n",
       "      <td>생활/건강</td>\n",
       "      <td>문구/사무용품</td>\n",
       "      <td>노트/수첩</td>\n",
       "    </tr>\n",
       "    <tr>\n",
       "      <th>578616</th>\n",
       "      <td>일본 11마리고양이 A6 독서 기록 노트 - 트럭, 산책 / 열한마리 고양이 문구 굿즈</td>\n",
       "      <td>생활/건강</td>\n",
       "      <td>문구/사무용품</td>\n",
       "      <td>노트/수첩</td>\n",
       "    </tr>\n",
       "    <tr>\n",
       "      <th>578617</th>\n",
       "      <td>리딩펫 독서통장 어린이 독후활동 초등 독서기록수첩</td>\n",
       "      <td>생활/건강</td>\n",
       "      <td>문구/사무용품</td>\n",
       "      <td>노트/수첩</td>\n",
       "    </tr>\n",
       "  </tbody>\n",
       "</table>\n",
       "<p>578618 rows × 4 columns</p>\n",
       "</div>"
      ],
      "text/plain": [
       "                                                    title category1 category2  \\\n",
       "0                                      브레넨스툴 플랫 플러그 2구 3M     생활/건강        공구   \n",
       "1                                       써지오 멀티탭 연장선 1구 5m     생활/건강        공구   \n",
       "2                         아이정 더좋은 멀티탭 통합 절전 과부하 스위치 2구 1M     생활/건강        공구   \n",
       "3       비맥스 납작 멀티탭 고용량 에어컨 전용 과부하차단 개별스위치 공간활용 인테리어 콘센...     생활/건강        공구   \n",
       "4                            필립스 개별 스위치 USB 멀티콘센트 4구 1.5M     생활/건강        공구   \n",
       "...                                                   ...       ...       ...   \n",
       "578613                       기록노트 필사노트 독서 업무 일기장 양장 가죽 B5     생활/건강   문구/사무용품   \n",
       "578614                                B5 유선노트 라인 메모 기록 노트     생활/건강   문구/사무용품   \n",
       "578615                          일이공이 감정일기 마음 일기장 감성 노트 기록     생활/건강   문구/사무용품   \n",
       "578616   일본 11마리고양이 A6 독서 기록 노트 - 트럭, 산책 / 열한마리 고양이 문구 굿즈     생활/건강   문구/사무용품   \n",
       "578617                        리딩펫 독서통장 어린이 독후활동 초등 독서기록수첩     생활/건강   문구/사무용품   \n",
       "\n",
       "       category3  \n",
       "0           전기용품  \n",
       "1           전기용품  \n",
       "2           전기용품  \n",
       "3           전기용품  \n",
       "4           전기용품  \n",
       "...          ...  \n",
       "578613     노트/수첩  \n",
       "578614     노트/수첩  \n",
       "578615     노트/수첩  \n",
       "578616     노트/수첩  \n",
       "578617     노트/수첩  \n",
       "\n",
       "[578618 rows x 4 columns]"
      ]
     },
     "execution_count": 21,
     "metadata": {},
     "output_type": "execute_result"
    }
   ],
   "source": [
    "changed_df"
   ]
  },
  {
   "cell_type": "code",
   "execution_count": 23,
   "id": "e6bb365c-2ccf-4c79-92d2-81fbb0bced6c",
   "metadata": {},
   "outputs": [],
   "source": [
    "changed_df.to_csv('cleaned_data_1104.csv', index=False, encoding='utf-8-sig')"
   ]
  },
  {
   "cell_type": "code",
   "execution_count": 29,
   "id": "8e558e0f-64b7-4407-9c14-ad91460ee118",
   "metadata": {},
   "outputs": [
    {
     "data": {
      "text/plain": [
       "category2\n",
       "잼/시럽          901\n",
       "원데이클래스        900\n",
       "소스/드레싱        900\n",
       "이유식           900\n",
       "악기            833\n",
       "요가/필라테스       789\n",
       "배구            769\n",
       "유아동잡화         582\n",
       "남성언더웨어/잠옷     470\n",
       "남성화장품         372\n",
       "야구            294\n",
       "반찬            266\n",
       "수영            221\n",
       "남성가방          123\n",
       "관상어용품         123\n",
       "매트/안전용품        89\n",
       "눈건강용품          73\n",
       "스킨/바디용품        34\n",
       "스포츠액세서리        29\n",
       "신발용품           28\n",
       "유아침구           24\n",
       "신생아의류          19\n",
       "솜류             16\n",
       "위생/건강용품        14\n",
       "국내렌터카          13\n",
       "유아가구           12\n",
       "카시트            11\n",
       "모니터주변기기        11\n",
       "유아세제            9\n",
       "기타스포츠용품         8\n",
       "아동/주니어가구        8\n",
       "해외여행            6\n",
       "순금              5\n",
       "물리치료/저주파용품      5\n",
       "종교              4\n",
       "외출용품            4\n",
       "학습기기            3\n",
       "노트북액세서리         3\n",
       "댄스              3\n",
       "스키/보드           2\n",
       "마라톤용품           2\n",
       "좌욕/좌훈용품         1\n",
       "임산부용품           1\n",
       "이유식용품           1\n",
       "DVD             1\n",
       "Name: count, dtype: int64"
      ]
     },
     "execution_count": 29,
     "metadata": {},
     "output_type": "execute_result"
    }
   ],
   "source": [
    "changed_df['category2'].value_counts().tail(45)"
   ]
  },
  {
   "cell_type": "code",
   "execution_count": 23,
   "id": "72d27034-6637-4e55-8c08-974e77f15486",
   "metadata": {},
   "outputs": [
    {
     "data": {
      "text/plain": [
       "category2\n",
       "주방용품       12737\n",
       "농산물        11848\n",
       "문구/사무용품    11059\n",
       "공구          8447\n",
       "음료          7408\n",
       "           ...  \n",
       "외출용품           2\n",
       "국내렌터카          2\n",
       "관상어용품          1\n",
       "댄스             1\n",
       "스키/보드          1\n",
       "Name: count, Length: 169, dtype: int64"
      ]
     },
     "execution_count": 23,
     "metadata": {},
     "output_type": "execute_result"
    }
   ],
   "source": [
    "changed_df['category2'].value_counts()"
   ]
  },
  {
   "cell_type": "code",
   "execution_count": 33,
   "id": "c6239b29-c117-46d2-b7c1-eecba3003550",
   "metadata": {},
   "outputs": [
    {
     "name": "stdout",
     "output_type": "stream",
     "text": [
      "category2\n",
      "농산물        32841\n",
      "주방용품       30317\n",
      "문구/사무용품    27745\n",
      "공구         27243\n",
      "과자/베이커리    22207\n",
      "           ...  \n",
      "반찬           266\n",
      "수영           221\n",
      "남성가방         123\n",
      "관상어용품        123\n",
      "매트/안전용품       89\n",
      "Name: count, Length: 147, dtype: int64\n"
     ]
    }
   ],
   "source": [
    "# category2 값의 개수 계산\n",
    "category_counts = changed_df['category2'].value_counts()\n",
    "\n",
    "# 값이 20 이하인 category2 목록 추출\n",
    "categories_to_remove = category_counts[category_counts <= 80].index\n",
    "\n",
    "# 20 이하인 category2 값들을 삭제한 DataFrame 생성\n",
    "filtered_df = changed_df[~changed_df['category2'].isin(categories_to_remove)]\n",
    "\n",
    "# 결과 출력 및 확인\n",
    "print(filtered_df['category2'].value_counts())"
   ]
  },
  {
   "cell_type": "code",
   "execution_count": 27,
   "id": "254fb445-6951-4bc9-83ac-9c1a444dd2cc",
   "metadata": {},
   "outputs": [
    {
     "data": {
      "text/plain": [
       "title\n",
       "안약통 10ml 200EA 투약병 공병 안약병 다용도용기               30\n",
       "JW중외제약 프리미엄 징코 앤 메모리  30정  3개                 27\n",
       "코카콜라  본사직영  500ml 펫 24개                       27\n",
       "강아지 고양이 필건 안약 눈물 진드기약 알약 먹이기                  25\n",
       "닥터지 레드 블레미쉬 클리어 크림 70ml                       23\n",
       "                                              ..\n",
       "모나리자 300매 향  3입 2+2개 총12개 향기 각티슈 천연펄프 미용티슈     1\n",
       "빈다 울트라소프트 미용티슈 224매 3입                         1\n",
       "에뚜이르 프리미엄 보습 티슈 150매 3입                        1\n",
       "월드산업 닥터케이콩 순수한 미용티슈 200매                       1\n",
       "오뚜기 2배 사과식초  500ml  5개                         1\n",
       "Name: count, Length: 191606, dtype: int64"
      ]
     },
     "execution_count": 27,
     "metadata": {},
     "output_type": "execute_result"
    }
   ],
   "source": [
    "filtered_df['title'].value_counts()"
   ]
  },
  {
   "cell_type": "code",
   "execution_count": 35,
   "id": "617c857e-d46e-4e79-8f7b-124ad49fbb49",
   "metadata": {},
   "outputs": [
    {
     "name": "stdout",
     "output_type": "stream",
     "text": [
      "title\n",
      "브레넨스툴 플랫 플러그 2구 3M                              1\n",
      "업쿡 빅헤드 스텐 주방 가위 다용도 고기 가위                       1\n",
      "안전한 고기가위 10개 두께 3mm 고급 식당 주방가위 갈비 삼겹살 업소용       1\n",
      "씸플형 주방가위 고기가위 10개 잘드는식당용가위 삼겁살 야채 김치 업소용        1\n",
      "일본시모무라가위 분리형  1P  1Ea                           1\n",
      "                                               ..\n",
      "안경 위에 쓰는 끼우는 편광 선글라스 빅사이즈 클립온 덮경 오버글라스 낚시 골프    1\n",
      "오클리 홀브룩 선글라스 아시안핏 OO9244-2556                   1\n",
      "사각 빅사이즈 남자 선글라스                                 1\n",
      "몽벨 선글라스 경량 접이식 트레킹 글라스 1109131 케이스 포함           1\n",
      "리딩펫 독서통장 어린이 독후활동 초등 독서기록수첩                     1\n",
      "Name: count, Length: 492638, dtype: int64\n"
     ]
    }
   ],
   "source": [
    "# title 열에서 중복된 값 제거\n",
    "# unique_titles_df = filtered_df.drop_duplicates(subset='title')\n",
    "filtered_df = filtered_df.drop_duplicates(subset='title')\n",
    "\n",
    "# 결과 출력 및 확인\n",
    "# print(unique_titles_df['title'].value_counts())\n",
    "print(filtered_df['title'].value_counts())"
   ]
  },
  {
   "cell_type": "code",
   "execution_count": 53,
   "id": "2af68cc8-4197-4ac6-8ecd-c4e33459ac56",
   "metadata": {},
   "outputs": [
    {
     "data": {
      "text/plain": [
       "category2\n",
       "주방용품       27073\n",
       "농산물        25365\n",
       "문구/사무용품    25345\n",
       "공구         24754\n",
       "과자/베이커리    17306\n",
       "           ...  \n",
       "반찬           264\n",
       "수영           203\n",
       "관상어용품        121\n",
       "남성가방         116\n",
       "매트/안전용품       83\n",
       "Name: count, Length: 147, dtype: int64"
      ]
     },
     "execution_count": 53,
     "metadata": {},
     "output_type": "execute_result"
    }
   ],
   "source": [
    "filtered_df['category2'].value_counts()"
   ]
  },
  {
   "cell_type": "code",
   "execution_count": 49,
   "id": "7b0ef73c-44be-4c25-877e-ad09ecfd7f4f",
   "metadata": {},
   "outputs": [],
   "source": [
    "filtered_df.to_csv('filtered_data_1104.csv', index=False, encoding='utf-8-sig')"
   ]
  },
  {
   "cell_type": "code",
   "execution_count": 47,
   "id": "b86ebe24-fe7c-4fa1-b999-37ee7857b9c0",
   "metadata": {},
   "outputs": [
    {
     "name": "stdout",
     "output_type": "stream",
     "text": [
      "Empty DataFrame\n",
      "Columns: [title, category1, category2, category3]\n",
      "Index: []\n"
     ]
    }
   ],
   "source": [
    "print(filtered_df[filtered_df['category2'].isna()])"
   ]
  },
  {
   "cell_type": "code",
   "execution_count": 45,
   "id": "fca59155-074b-4a75-a8b9-b4166e6ebb2c",
   "metadata": {},
   "outputs": [
    {
     "name": "stdout",
     "output_type": "stream",
     "text": [
      "0\n"
     ]
    }
   ],
   "source": [
    "nan_count = filtered_df['category2'].isna().sum()\n",
    "print(nan_count)"
   ]
  },
  {
   "cell_type": "code",
   "execution_count": 43,
   "id": "26b0d902-3313-4458-9cdc-4682f20749a0",
   "metadata": {},
   "outputs": [],
   "source": [
    "filtered_df = filtered_df.drop(115232)"
   ]
  },
  {
   "cell_type": "code",
   "execution_count": 51,
   "id": "57154485-1c5c-473b-ba5c-5c76bf210aba",
   "metadata": {},
   "outputs": [
    {
     "name": "stdout",
     "output_type": "stream",
     "text": [
      "title\n",
      "브레넨스툴 플랫 플러그 2구 3M                               1\n",
      "니토리샵 이유식가위 파쇄 5날 만능 채칼 가위                        1\n",
      "오프너 곡선가위 두께 3mm 고급 주방 식당 대게 잘들고 튼튼한 삽겹살가위 업소용    1\n",
      "안전한 고기가위 10개 두께 3mm 고급 식당 주방가위 갈비 삼겹살 업소용        1\n",
      "씸플형 주방가위 고기가위 10개 잘드는식당용가위 삼겁살 야채 김치 업소용         1\n",
      "                                                ..\n",
      "뿔테안경 긴즈버그 타르 전용 클립온선글라스 애쉬크로프트 레토 클립선글라스         1\n",
      "안경 위에 쓰는 끼우는 편광 선글라스 빅사이즈 클립온 덮경 오버글라스 낚시 골프     1\n",
      "오클리 홀브룩 선글라스 아시안핏 OO9244-2556                    1\n",
      "사각 빅사이즈 남자 선글라스                                  1\n",
      "리딩펫 독서통장 어린이 독후활동 초등 독서기록수첩                      1\n",
      "Name: count, Length: 492637, dtype: int64\n"
     ]
    }
   ],
   "source": [
    "print(filtered_df['title'].value_counts())"
   ]
  },
  {
   "cell_type": "code",
   "execution_count": 55,
   "id": "e7594175-5d25-4c63-be86-491d7cbc5f22",
   "metadata": {},
   "outputs": [],
   "source": [
    "check_df = filtered_df"
   ]
  },
  {
   "cell_type": "code",
   "execution_count": 81,
   "id": "ccd98cfd-fed9-453b-aa71-5273045a49c7",
   "metadata": {},
   "outputs": [],
   "source": [
    "### 카테고리 대분류화 ###\n",
    "#########################\n",
    "\n",
    "checked_categories = [\n",
    "\t'PC','PC부품','노트북','네트워크장비','저장장치','주변기기','소프트웨어','PC액세서리',\n",
    "\t'생활가전','영상가전','음향가전','이미용가전','청소기','계절가전',\n",
    "\t'주방가전','주방용품','주방가구','식용유/오일','소스/드레싱','조미료',\n",
    "\t'스킨케어','클렌징','마스크/팩','선케어','뷰티소품','바디케어','남성화장품','네일케어',\n",
    "\t'베이스메이크업','색조메이크업','향수',\n",
    "\t'헤어케어','헤어스타일링','헤어액세서리',\n",
    "\t'남성가방','남성신발','남성의류','남성언더웨어/잠옷','벨트',\n",
    "\t'여성가방','여성신발','여성의류','여성언더웨어/잠옷','패션소품',\n",
    "\t'시계','주얼리','지갑','선글라스/안경테','양말',\n",
    "\t'유아동의류','유아동언더웨어/잠옷','유아동잡화','유모차','기저귀','이유식','출산/돌기념품',\n",
    "\t'골프','농구','배드민턴','배구','야구','축구','헬스','보호용품',\n",
    "\t'캠핑','등산','낚시','자전거',\n",
    "\t'건강관리용품','건강측정용품','의료용품','재활운동용품','다이어트식품','냉온/찜질용품','실버용품',\n",
    "\t'욕실용품','구강위생용품','세탁용품','청소용품',\n",
    "\t'문구/사무용품','서재/사무용가구','화방용품',\n",
    "\t'생활용품','생활편의','거실가구',\n",
    "\t'침구단품','침구세트','침실가구','베개',\n",
    "\t'수납가구','수납/정리용품',\n",
    "\t'원예/식물','정원/원예용품',\n",
    "\t'태블릿PC','태블릿PC액세서리','휴대폰','휴대폰액세서리','카메라/캠코더용품','모니터','멀티미디어장비',\n",
    "\t'게임기/타이틀','음반',\n",
    "\t'DIY자재/용품','공구',\n",
    "\t'자동차기기','자동차용품','오토바이/스쿠터',\n",
    "\t'음료','주류','유가공품','반찬','장류',\n",
    "\t'냉동/간편조리식품','라면/면류','밀키트','통조림/캔','잼/시럽','가루/분말류',\n",
    "\t'농산물','축산물','수산물','김치',\n",
    "\t'과자/베이커리',\n",
    "\t'인테리어소품','홈데코','카페트/러그','커튼/블라인드',\n",
    "\t'완구/인형','교구',\n",
    "\t'악기','수예','수집품',\n",
    "\t'건강식품',\n",
    "\t'안마용품',\n",
    "\t'발건강용품',\n",
    "\t'국내여행/체험','원데이클래스','여행용가방/소품',\n",
    "\t'장갑','스케이트/보드/롤러','테니스','수영','매트/안전용품','요가/필라테스',\n",
    "\t'모자',\n",
    "    '반려동물','관상어용품'\n",
    "]\n",
    "current_categories = filtered_df\n",
    "\n",
    "unique_categories = current_categories[~current_categories['category2'].isin(checked_categories)]['category2'].unique()\n",
    "\n",
    "\n",
    "#########################\n",
    "#########################"
   ]
  },
  {
   "cell_type": "code",
   "execution_count": 71,
   "id": "c5e6482c-62e3-462a-8e9e-33157e84c02c",
   "metadata": {},
   "outputs": [
    {
     "name": "stdout",
     "output_type": "stream",
     "text": [
      "이미지에 없는 중복되지 않은 카테고리:\n",
      "반려동물\n",
      "관상어용품\n"
     ]
    }
   ],
   "source": [
    "\n",
    "print(\"이미지에 없는 중복되지 않은 카테고리:\")\n",
    "for category in unique_categories:\n",
    "    print(category)"
   ]
  },
  {
   "cell_type": "code",
   "execution_count": 75,
   "id": "693c8ba7-46fb-4c5b-a2d0-ea66cfd51132",
   "metadata": {},
   "outputs": [],
   "source": [
    "current_categories2 = filtered_df['category2'].unique()"
   ]
  },
  {
   "cell_type": "code",
   "execution_count": 77,
   "id": "b7f229cf-f43c-4b0c-a98f-23d55ce9511e",
   "metadata": {},
   "outputs": [
    {
     "name": "stdout",
     "output_type": "stream",
     "text": [
      "current_categories에 없는 checked_categories의 값들:\n",
      "아기간식\n",
      "DVD\n",
      "아기간식\n"
     ]
    }
   ],
   "source": [
    "missing_categories = [category for category in checked_categories if category not in current_categories2]\n",
    "\n",
    "print(\"current_categories에 없는 checked_categories의 값들:\")\n",
    "for category in missing_categories:\n",
    "    print(category)"
   ]
  },
  {
   "cell_type": "code",
   "execution_count": 83,
   "id": "02ef9a95-97ff-44e0-9b54-56bcb1ea6a63",
   "metadata": {},
   "outputs": [
    {
     "name": "stdout",
     "output_type": "stream",
     "text": [
      "중복된 카테고리들:\n"
     ]
    }
   ],
   "source": [
    "from collections import Counter\n",
    "category_counts = Counter(checked_categories)\n",
    "duplicates = [category for category, count in category_counts.items() if count > 1]\n",
    "\n",
    "print(\"중복된 카테고리들:\")\n",
    "for category in duplicates:\n",
    "    print(category)"
   ]
  },
  {
   "cell_type": "code",
   "execution_count": 85,
   "id": "5fdd61fe-9ea6-4fda-8e16-27c1360e569f",
   "metadata": {},
   "outputs": [
    {
     "data": {
      "text/plain": [
       "147"
      ]
     },
     "execution_count": 85,
     "metadata": {},
     "output_type": "execute_result"
    }
   ],
   "source": [
    "len(checked_categories)"
   ]
  },
  {
   "cell_type": "code",
   "execution_count": 89,
   "id": "6d56a70e-32ed-40ce-be68-ab94b55a8509",
   "metadata": {},
   "outputs": [
    {
     "data": {
      "text/plain": [
       "147"
      ]
     },
     "execution_count": 89,
     "metadata": {},
     "output_type": "execute_result"
    }
   ],
   "source": [
    "len(filtered_df['category2'].unique())"
   ]
  },
  {
   "cell_type": "code",
   "execution_count": 91,
   "id": "fe9a5685-255d-4cb5-aecb-7a9d2ec793c6",
   "metadata": {},
   "outputs": [
    {
     "data": {
      "text/html": [
       "<div>\n",
       "<style scoped>\n",
       "    .dataframe tbody tr th:only-of-type {\n",
       "        vertical-align: middle;\n",
       "    }\n",
       "\n",
       "    .dataframe tbody tr th {\n",
       "        vertical-align: top;\n",
       "    }\n",
       "\n",
       "    .dataframe thead th {\n",
       "        text-align: right;\n",
       "    }\n",
       "</style>\n",
       "<table border=\"1\" class=\"dataframe\">\n",
       "  <thead>\n",
       "    <tr style=\"text-align: right;\">\n",
       "      <th></th>\n",
       "      <th>title</th>\n",
       "      <th>category1</th>\n",
       "      <th>category2</th>\n",
       "      <th>category3</th>\n",
       "    </tr>\n",
       "  </thead>\n",
       "  <tbody>\n",
       "    <tr>\n",
       "      <th>0</th>\n",
       "      <td>브레넨스툴 플랫 플러그 2구 3M</td>\n",
       "      <td>생활/건강</td>\n",
       "      <td>공구</td>\n",
       "      <td>전기용품</td>\n",
       "    </tr>\n",
       "    <tr>\n",
       "      <th>1</th>\n",
       "      <td>써지오 멀티탭 연장선 1구 5m</td>\n",
       "      <td>생활/건강</td>\n",
       "      <td>공구</td>\n",
       "      <td>전기용품</td>\n",
       "    </tr>\n",
       "    <tr>\n",
       "      <th>2</th>\n",
       "      <td>아이정 더좋은 멀티탭 통합 절전 과부하 스위치 2구 1M</td>\n",
       "      <td>생활/건강</td>\n",
       "      <td>공구</td>\n",
       "      <td>전기용품</td>\n",
       "    </tr>\n",
       "    <tr>\n",
       "      <th>3</th>\n",
       "      <td>비맥스 납작 멀티탭 고용량 에어컨 전용 과부하차단 개별스위치 공간활용 인테리어 콘센...</td>\n",
       "      <td>생활/건강</td>\n",
       "      <td>공구</td>\n",
       "      <td>전기용품</td>\n",
       "    </tr>\n",
       "    <tr>\n",
       "      <th>4</th>\n",
       "      <td>필립스 개별 스위치 USB 멀티콘센트 4구 1.5M</td>\n",
       "      <td>생활/건강</td>\n",
       "      <td>공구</td>\n",
       "      <td>전기용품</td>\n",
       "    </tr>\n",
       "    <tr>\n",
       "      <th>...</th>\n",
       "      <td>...</td>\n",
       "      <td>...</td>\n",
       "      <td>...</td>\n",
       "      <td>...</td>\n",
       "    </tr>\n",
       "    <tr>\n",
       "      <th>578613</th>\n",
       "      <td>기록노트 필사노트 독서 업무 일기장 양장 가죽 B5</td>\n",
       "      <td>생활/건강</td>\n",
       "      <td>문구/사무용품</td>\n",
       "      <td>노트/수첩</td>\n",
       "    </tr>\n",
       "    <tr>\n",
       "      <th>578614</th>\n",
       "      <td>B5 유선노트 라인 메모 기록 노트</td>\n",
       "      <td>생활/건강</td>\n",
       "      <td>문구/사무용품</td>\n",
       "      <td>노트/수첩</td>\n",
       "    </tr>\n",
       "    <tr>\n",
       "      <th>578615</th>\n",
       "      <td>일이공이 감정일기 마음 일기장 감성 노트 기록</td>\n",
       "      <td>생활/건강</td>\n",
       "      <td>문구/사무용품</td>\n",
       "      <td>노트/수첩</td>\n",
       "    </tr>\n",
       "    <tr>\n",
       "      <th>578616</th>\n",
       "      <td>일본 11마리고양이 A6 독서 기록 노트 - 트럭, 산책 / 열한마리 고양이 문구 굿즈</td>\n",
       "      <td>생활/건강</td>\n",
       "      <td>문구/사무용품</td>\n",
       "      <td>노트/수첩</td>\n",
       "    </tr>\n",
       "    <tr>\n",
       "      <th>578617</th>\n",
       "      <td>리딩펫 독서통장 어린이 독후활동 초등 독서기록수첩</td>\n",
       "      <td>생활/건강</td>\n",
       "      <td>문구/사무용품</td>\n",
       "      <td>노트/수첩</td>\n",
       "    </tr>\n",
       "  </tbody>\n",
       "</table>\n",
       "<p>492637 rows × 4 columns</p>\n",
       "</div>"
      ],
      "text/plain": [
       "                                                    title category1 category2  \\\n",
       "0                                      브레넨스툴 플랫 플러그 2구 3M     생활/건강        공구   \n",
       "1                                       써지오 멀티탭 연장선 1구 5m     생활/건강        공구   \n",
       "2                         아이정 더좋은 멀티탭 통합 절전 과부하 스위치 2구 1M     생활/건강        공구   \n",
       "3       비맥스 납작 멀티탭 고용량 에어컨 전용 과부하차단 개별스위치 공간활용 인테리어 콘센...     생활/건강        공구   \n",
       "4                            필립스 개별 스위치 USB 멀티콘센트 4구 1.5M     생활/건강        공구   \n",
       "...                                                   ...       ...       ...   \n",
       "578613                       기록노트 필사노트 독서 업무 일기장 양장 가죽 B5     생활/건강   문구/사무용품   \n",
       "578614                                B5 유선노트 라인 메모 기록 노트     생활/건강   문구/사무용품   \n",
       "578615                          일이공이 감정일기 마음 일기장 감성 노트 기록     생활/건강   문구/사무용품   \n",
       "578616   일본 11마리고양이 A6 독서 기록 노트 - 트럭, 산책 / 열한마리 고양이 문구 굿즈     생활/건강   문구/사무용품   \n",
       "578617                        리딩펫 독서통장 어린이 독후활동 초등 독서기록수첩     생활/건강   문구/사무용품   \n",
       "\n",
       "       category3  \n",
       "0           전기용품  \n",
       "1           전기용품  \n",
       "2           전기용품  \n",
       "3           전기용품  \n",
       "4           전기용품  \n",
       "...          ...  \n",
       "578613     노트/수첩  \n",
       "578614     노트/수첩  \n",
       "578615     노트/수첩  \n",
       "578616     노트/수첩  \n",
       "578617     노트/수첩  \n",
       "\n",
       "[492637 rows x 4 columns]"
      ]
     },
     "execution_count": 91,
     "metadata": {},
     "output_type": "execute_result"
    }
   ],
   "source": [
    "filtered_df"
   ]
  },
  {
   "cell_type": "code",
   "execution_count": 95,
   "id": "77f0d773-ebe4-4a5a-982c-c8210e4ac466",
   "metadata": {},
   "outputs": [],
   "source": [
    "final_df=filtered_df \n",
    "final_df['title'] = final_df['title'].replace({'<b>' : '', '</b>':'', '_' : ' ', r'\\[' : ' ', r'\\]' : ' ', r'\\(' : ' ', r'\\)': ' ', '-': ' ', '/':' '}, regex = True).str.strip()"
   ]
  },
  {
   "cell_type": "code",
   "execution_count": 97,
   "id": "9e4a2bb9-9772-4e1d-a375-687cb2c9465b",
   "metadata": {},
   "outputs": [],
   "source": [
    "final_df.to_csv('final_data_1104.csv', index=False, encoding='utf-8-sig')"
   ]
  },
  {
   "cell_type": "code",
   "execution_count": null,
   "id": "62da70c6-1bee-4a72-9c9c-2a0f9828a557",
   "metadata": {},
   "outputs": [],
   "source": []
  }
 ],
 "metadata": {
  "kernelspec": {
   "display_name": "Python 3 (ipykernel)",
   "language": "python",
   "name": "python3"
  },
  "language_info": {
   "codemirror_mode": {
    "name": "ipython",
    "version": 3
   },
   "file_extension": ".py",
   "mimetype": "text/x-python",
   "name": "python",
   "nbconvert_exporter": "python",
   "pygments_lexer": "ipython3",
   "version": "3.12.4"
  }
 },
 "nbformat": 4,
 "nbformat_minor": 5
}
